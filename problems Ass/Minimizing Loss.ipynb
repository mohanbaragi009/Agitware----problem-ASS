{
 "cells": [
  {
   "cell_type": "code",
   "execution_count": 7,
   "id": "58a3d250-f15b-488c-954c-4a39ad7eb7a8",
   "metadata": {},
   "outputs": [
    {
     "name": "stdin",
     "output_type": "stream",
     "text": [
      "Enter prices for each year separated by spaces or commas:  345, 321, \n"
     ]
    },
    {
     "name": "stdout",
     "output_type": "stream",
     "text": [
      " Buy in year 1, sell in year 2, minimum loss = 24\n"
     ]
    }
   ],
   "source": [
    "def minimize_loss(prices):\n",
    "    n = len(prices)\n",
    "    min_loss = float('inf')\n",
    "    buy_year, sell_year = -1, -1\n",
    "    for buy in range(n):\n",
    "        for sell in range(buy + 1, n):\n",
    "            if prices[sell] < prices[buy]:\n",
    "                loss = prices[buy] - prices[sell]\n",
    "                if loss < min_loss:\n",
    "                    min_loss = loss\n",
    "                    buy_year = buy + 1 \n",
    "                    sell_year = sell + 1\n",
    "    return (buy_year, sell_year, min_loss) if min_loss < float('inf') else None\n",
    "price_input = input(\"Enter prices for each year separated by spaces or commas: \")\n",
    "try:\n",
    "    prices = list(map(int, price_input.replace(',', ' ').split()))\n",
    "except ValueError:\n",
    "    print(\"Invalid input: please enter only numbers separated by spaces or commas.\")\n",
    "    exit()\n",
    "\n",
    "result = minimize_loss(prices)\n",
    "\n",
    "if result is not None:\n",
    "    buy, sell, loss = result\n",
    "    print(f\" Buy in year {buy}, sell in year {sell}, minimum loss = {loss}\")\n",
    "else:\n",
    "    print(\"No possible loss.\")\n"
   ]
  },
  {
   "cell_type": "code",
   "execution_count": null,
   "id": "9c53d196-5b26-4875-be3b-a686adbabec2",
   "metadata": {},
   "outputs": [],
   "source": []
  }
 ],
 "metadata": {
  "kernelspec": {
   "display_name": "Python 3 (ipykernel)",
   "language": "python",
   "name": "python3"
  },
  "language_info": {
   "codemirror_mode": {
    "name": "ipython",
    "version": 3
   },
   "file_extension": ".py",
   "mimetype": "text/x-python",
   "name": "python",
   "nbconvert_exporter": "python",
   "pygments_lexer": "ipython3",
   "version": "3.12.7"
  }
 },
 "nbformat": 4,
 "nbformat_minor": 5
}
