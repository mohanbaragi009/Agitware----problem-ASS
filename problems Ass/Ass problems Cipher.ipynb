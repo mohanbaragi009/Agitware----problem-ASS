{
 "cells": [
  {
   "cell_type": "markdown",
   "id": "06948638-94d4-4860-9b78-f223831947ca",
   "metadata": {},
   "source": []
  },
  {
   "cell_type": "code",
   "execution_count": null,
   "id": "8da45f0e-2b1e-449c-9d84-12036a1d682a",
   "metadata": {},
   "outputs": [
    {
     "name": "stdin",
     "output_type": "stream",
     "text": [
      "How many lines?  4\n",
      "Type 'encode' or 'decode':  encode\n",
      "Enter your message:  Huliya\n",
      "Enter shift amount:  4\n"
     ]
    },
    {
     "name": "stdout",
     "output_type": "stream",
     "text": [
      "Result: Lypmce\n"
     ]
    },
    {
     "name": "stdin",
     "output_type": "stream",
     "text": [
      "Type 'encode' or 'decode':  decode\n",
      "Enter your message:  Abhi\n",
      "Enter shift amount:  3\n"
     ]
    },
    {
     "name": "stdout",
     "output_type": "stream",
     "text": [
      "Result: Xyef\n"
     ]
    }
   ],
   "source": [
    "def caesar_cipher(message, shift, mode='encode'):\n",
    "    if mode == 'decode':\n",
    "        shift = -shift\n",
    "    result = \"\"\n",
    "    for char in message:\n",
    "        if char.isalpha():\n",
    "            offset = 65 if char.isupper() else 97\n",
    "            result += chr((ord(char) - offset + shift) % 26 + offset)\n",
    "        else:\n",
    "            result += char\n",
    "    return result\n",
    "\n",
    "n = int(input(\"How many lines?\"))\n",
    "for _ in range(n):\n",
    "    action = input(\"Give 'encode' or 'decode': \").strip().lower()\n",
    "    msg = input(\"Enter your message: \")\n",
    "    shift = int(input(\"Enter shift amount: \"))\n",
    "    result = caesar_cipher(msg, shift, mode=action)\n",
    "    print(f\"Result: {result}\")"
   ]
  },
  {
   "cell_type": "code",
   "execution_count": null,
   "id": "0513dda9-9ae0-468f-a549-9b179af11250",
   "metadata": {},
   "outputs": [],
   "source": []
  }
 ],
 "metadata": {
  "kernelspec": {
   "display_name": "Python 3 (ipykernel)",
   "language": "python",
   "name": "python3"
  },
  "language_info": {
   "codemirror_mode": {
    "name": "ipython",
    "version": 3
   },
   "file_extension": ".py",
   "mimetype": "text/x-python",
   "name": "python",
   "nbconvert_exporter": "python",
   "pygments_lexer": "ipython3",
   "version": "3.12.7"
  }
 },
 "nbformat": 4,
 "nbformat_minor": 5
}
