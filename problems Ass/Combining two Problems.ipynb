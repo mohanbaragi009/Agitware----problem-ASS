{
 "cells": [
  {
   "cell_type": "code",
   "execution_count": 7,
   "id": "5ea8215e-2a73-46f4-a679-b72dd0355bfb",
   "metadata": {},
   "outputs": [
    {
     "name": "stdout",
     "output_type": "stream",
     "text": [
      "[{'positions': [0, 10], 'values': ['a', 'x']}, {'positions': [20, 30], 'values': ['b', 'y']}]\n"
     ]
    }
   ],
   "source": [
    "def overlap_fraction(a, b):\n",
    "    a_left, a_right = a\n",
    "    b_left, b_right = b\n",
    "    overlap_left = max(a_left, b_left)\n",
    "    overlap_right = min(a_right, b_right)\n",
    "    overlap = max(0, overlap_right - overlap_left)\n",
    "    a_length = a_right - a_left\n",
    "    return overlap / a_length if a_length > 0 else 0\n",
    "\n",
    "def combine_lists(list1, list2):\n",
    "    all_elems = [(elem, 1, idx) for idx, elem in enumerate(list1)] + \\\n",
    "                [(elem, 2, idx) for idx, elem in enumerate(list2)]\n",
    "    all_elems.sort(key=lambda x: x[0]['positions'][0])\n",
    "\n",
    "    result = []\n",
    "    skip_indices = set()\n",
    "\n",
    "    for i, (elem_a, source_a, idx_a) in enumerate(all_elems):\n",
    "        if (source_a, idx_a) in skip_indices:\n",
    "            continue\n",
    "        a_range = elem_a['positions']\n",
    "        combined_values = list(elem_a['values'])\n",
    "        for j, (elem_b, source_b, idx_b) in enumerate(all_elems):\n",
    "            if i == j or (source_b, idx_b) in skip_indices or source_a == source_b:\n",
    "                continue\n",
    "            b_range = elem_b['positions']\n",
    "            overlap = overlap_fraction(a_range, b_range)\n",
    "            if overlap >= 0.5:  # FIXED here\n",
    "                combined_values += elem_b['values']\n",
    "                skip_indices.add((source_b, idx_b))\n",
    "                break\n",
    "        result.append({\n",
    "            'positions': elem_a['positions'],\n",
    "            'values': combined_values\n",
    "        })\n",
    "    result.sort(key=lambda x: x['positions'][0])\n",
    "    return result\n",
    "\n",
    "# Example call\n",
    "list1 = [\n",
    "    {'positions': [0, 10], 'values': ['a']},\n",
    "    {'positions': [20, 30], 'values': ['b']}\n",
    "]\n",
    "\n",
    "list2 = [\n",
    "    {'positions': [5, 15], 'values': ['x']},\n",
    "    {'positions': [25, 35], 'values': ['y']}\n",
    "]\n",
    "\n",
    "result = combine_lists(list1, list2)\n",
    "print(result)\n"
   ]
  },
  {
   "cell_type": "code",
   "execution_count": null,
   "id": "407dcd9a-7d9b-4933-b4c6-d35fe9fc6c8c",
   "metadata": {},
   "outputs": [],
   "source": []
  },
  {
   "cell_type": "code",
   "execution_count": null,
   "id": "e3906ff0-9053-47bf-93c7-76c131c03a4c",
   "metadata": {},
   "outputs": [],
   "source": []
  },
  {
   "cell_type": "code",
   "execution_count": null,
   "id": "8457b0d7-2d56-47d2-8a41-a27da83f5c92",
   "metadata": {},
   "outputs": [],
   "source": []
  }
 ],
 "metadata": {
  "kernelspec": {
   "display_name": "Python 3 (ipykernel)",
   "language": "python",
   "name": "python3"
  },
  "language_info": {
   "codemirror_mode": {
    "name": "ipython",
    "version": 3
   },
   "file_extension": ".py",
   "mimetype": "text/x-python",
   "name": "python",
   "nbconvert_exporter": "python",
   "pygments_lexer": "ipython3",
   "version": "3.12.7"
  }
 },
 "nbformat": 4,
 "nbformat_minor": 5
}
