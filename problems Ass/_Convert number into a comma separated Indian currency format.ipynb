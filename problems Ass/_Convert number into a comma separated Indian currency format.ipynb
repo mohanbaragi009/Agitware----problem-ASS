{
 "cells": [
  {
   "cell_type": "code",
   "execution_count": 8,
   "id": "c04ddf2b-0a59-494c-a716-eca10e924652",
   "metadata": {},
   "outputs": [
    {
     "name": "stdout",
     "output_type": "stream",
     "text": [
      "1,23,456.7891\n"
     ]
    }
   ],
   "source": [
    " \n",
    "def format_indian_currency(number):\n",
    "    num_str = str(number)\n",
    "    if '.' in num_str:\n",
    "        int_part, dec_part = num_str.split('.')\n",
    "        dec_part = '.' + dec_part\n",
    "    else:\n",
    "        int_part, dec_part = num_str, ''\n",
    "    main = int_part[-3:]\n",
    "    left = int_part[:-3]\n",
    "    if left:\n",
    "        groups = []\n",
    "        while len(left) > 2:\n",
    "            groups.append(left[-2:])\n",
    "            left = left[:-2]\n",
    "        if left:\n",
    "            groups.append(left)\n",
    "        formatted = ','.join(groups[::-1]) + ',' + main + dec_part\n",
    "    else:\n",
    "        formatted = main + dec_part\n",
    "\n",
    "    return formatted\n",
    "\n",
    "# Example usage\n",
    "num = 123456.7891\n",
    "print(format_indian_currency(num))  # Output: 1,23,456.7891"
   ]
  },
  {
   "cell_type": "code",
   "execution_count": null,
   "id": "df610199-2482-4738-97cc-43afa78d8206",
   "metadata": {},
   "outputs": [],
   "source": []
  }
 ],
 "metadata": {
  "kernelspec": {
   "display_name": "Python 3 (ipykernel)",
   "language": "python",
   "name": "python3"
  },
  "language_info": {
   "codemirror_mode": {
    "name": "ipython",
    "version": 3
   },
   "file_extension": ".py",
   "mimetype": "text/x-python",
   "name": "python",
   "nbconvert_exporter": "python",
   "pygments_lexer": "ipython3",
   "version": "3.12.7"
  }
 },
 "nbformat": 4,
 "nbformat_minor": 5
}
